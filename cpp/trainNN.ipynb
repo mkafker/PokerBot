{
 "cells": [
  {
   "cell_type": "code",
   "execution_count": 7,
   "id": "4596b862",
   "metadata": {},
   "outputs": [],
   "source": [
    "import torch\n",
    "import torch.nn as nn\n",
    "import torch.optim as optim\n",
    "from torch.utils.data import Dataset, DataLoader\n",
    "import pandas as pd\n",
    "from sklearn.model_selection import train_test_split"
   ]
  },
  {
   "cell_type": "code",
   "execution_count": 13,
   "id": "abe56315",
   "metadata": {},
   "outputs": [
    {
     "name": "stdout",
     "output_type": "stream",
     "text": [
      "{'features': tensor([ 7.,  3.,  5.,  2., 13.,  1.,  9.,  4.,  4.,  4.], dtype=torch.float64), 'label': tensor(0.1100, dtype=torch.float64)}\n"
     ]
    }
   ],
   "source": [
    "# Define custom dataset class\n",
    "class CustomDataset(Dataset):\n",
    "    def __init__(self, csv_file):\n",
    "        self.data = pd.read_csv(csv_file)\n",
    "\n",
    "    def __len__(self):\n",
    "        return len(self.data)\n",
    "\n",
    "    def __getitem__(self, idx):\n",
    "        features = self.data.iloc[idx, :-1].values.astype(float)\n",
    "        label = self.data.iloc[idx, -1]\n",
    "        return {'features': torch.tensor(features), 'label': torch.tensor(label)}\n",
    "\n",
    "csv_file = 'HandMCout.csv'  # Replace 'data.csv' with the path to your CSV file\n",
    "dataset = CustomDataset(csv_file)\n",
    "\n",
    "print(dataset[0])\n",
    "# Split dataset into train and test sets\n",
    "#train_set, test_set = train_test_split(dataset, test_size=0.2, random_state=42)\n",
    "#print(test_set)\n"
   ]
  },
  {
   "cell_type": "code",
   "execution_count": 14,
   "id": "cbe03a8b",
   "metadata": {},
   "outputs": [
    {
     "name": "stdout",
     "output_type": "stream",
     "text": [
      "Epoch [1/50], Loss: 0.0252\n",
      "Epoch [2/50], Loss: 0.0347\n",
      "Epoch [3/50], Loss: 0.0106\n",
      "Epoch [4/50], Loss: 0.0109\n",
      "Epoch [5/50], Loss: 0.0069\n",
      "Epoch [6/50], Loss: 0.0043\n",
      "Epoch [7/50], Loss: 0.0072\n",
      "Epoch [8/50], Loss: 0.0166\n",
      "Epoch [9/50], Loss: 0.0043\n",
      "Epoch [10/50], Loss: 0.0069\n",
      "Epoch [11/50], Loss: 0.0064\n",
      "Epoch [12/50], Loss: 0.0025\n",
      "Epoch [13/50], Loss: 0.0055\n",
      "Epoch [14/50], Loss: 0.0190\n",
      "Epoch [15/50], Loss: 0.0047\n",
      "Epoch [16/50], Loss: 0.0082\n",
      "Epoch [17/50], Loss: 0.0039\n",
      "Epoch [18/50], Loss: 0.0023\n",
      "Epoch [19/50], Loss: 0.0089\n",
      "Epoch [20/50], Loss: 0.0101\n",
      "Epoch [21/50], Loss: 0.0032\n",
      "Epoch [22/50], Loss: 0.0011\n",
      "Epoch [23/50], Loss: 0.0036\n",
      "Epoch [24/50], Loss: 0.0031\n",
      "Epoch [25/50], Loss: 0.0017\n",
      "Epoch [26/50], Loss: 0.0138\n",
      "Epoch [27/50], Loss: 0.0058\n",
      "Epoch [28/50], Loss: 0.0044\n",
      "Epoch [29/50], Loss: 0.0040\n",
      "Epoch [30/50], Loss: 0.0035\n",
      "Epoch [31/50], Loss: 0.0054\n",
      "Epoch [32/50], Loss: 0.0059\n",
      "Epoch [33/50], Loss: 0.0037\n",
      "Epoch [34/50], Loss: 0.0034\n",
      "Epoch [35/50], Loss: 0.0049\n",
      "Epoch [36/50], Loss: 0.0033\n",
      "Epoch [37/50], Loss: 0.0070\n",
      "Epoch [38/50], Loss: 0.0018\n",
      "Epoch [39/50], Loss: 0.0026\n",
      "Epoch [40/50], Loss: 0.0025\n",
      "Epoch [41/50], Loss: 0.0036\n",
      "Epoch [42/50], Loss: 0.0016\n",
      "Epoch [43/50], Loss: 0.0016\n",
      "Epoch [44/50], Loss: 0.0021\n",
      "Epoch [45/50], Loss: 0.0017\n",
      "Epoch [46/50], Loss: 0.0260\n",
      "Epoch [47/50], Loss: 0.0036\n",
      "Epoch [48/50], Loss: 0.0073\n",
      "Epoch [49/50], Loss: 0.0017\n",
      "Epoch [50/50], Loss: 0.0024\n",
      "Test Loss: 0.0044\n"
     ]
    }
   ],
   "source": [
    "# Define the neural network\n",
    "class FunctionApproximator(nn.Module):\n",
    "    def __init__(self, input_dim, hidden_dim, output_dim):\n",
    "        super(FunctionApproximator, self).__init__()\n",
    "        self.fc1 = nn.Linear(input_dim, hidden_dim)\n",
    "        self.fc2 = nn.Linear(hidden_dim, output_dim)\n",
    "\n",
    "    def forward(self, x):\n",
    "        x = torch.relu(self.fc1(x))\n",
    "        x = self.fc2(x)\n",
    "        return x\n",
    "\n",
    "\n",
    "# Load CSV fil\n",
    "# Define model, loss function, and optimizer\n",
    "input_dim = len(train_set[0]['features'])\n",
    "output_dim = 1  # Assuming a single output\n",
    "hidden_dim = 100  # Adjust according to your problem\n",
    "model = FunctionApproximator(input_dim, hidden_dim, output_dim)\n",
    "criterion = nn.MSELoss()\n",
    "optimizer = optim.Adam(model.parameters(), lr=0.001)\n",
    "\n",
    "# Train the model\n",
    "num_epochs = 50\n",
    "batch_size = 32\n",
    "train_loader = DataLoader(train_set, batch_size=batch_size, shuffle=True)\n",
    "\n",
    "for epoch in range(num_epochs):\n",
    "    for batch in train_loader:\n",
    "        features, labels = batch['features'], batch['label']\n",
    "        optimizer.zero_grad()\n",
    "        outputs = model(features.float())\n",
    "        loss = criterion(outputs.squeeze(), labels.float())\n",
    "        loss.backward()\n",
    "        optimizer.step()\n",
    "\n",
    "    print(f'Epoch [{epoch+1}/{num_epochs}], Loss: {loss.item():.4f}')\n",
    "\n",
    "# Evaluate the model\n",
    "test_loader = DataLoader(test_set, batch_size=batch_size, shuffle=False)\n",
    "test_loss = 0\n",
    "with torch.no_grad():\n",
    "    for batch in test_loader:\n",
    "        features, labels = batch['features'], batch['label']\n",
    "        outputs = model(features.float())\n",
    "        test_loss += criterion(outputs.squeeze(), labels.float()).item()\n",
    "\n",
    "test_loss /= len(test_loader)\n",
    "print(f'Test Loss: {test_loss:.4f}')"
   ]
  },
  {
   "cell_type": "code",
   "execution_count": 17,
   "id": "74b7a9de",
   "metadata": {},
   "outputs": [
    {
     "name": "stdout",
     "output_type": "stream",
     "text": [
      "tensor([[0.1490]])\n",
      "tensor([[1.2045]])\n"
     ]
    }
   ],
   "source": [
    "greathand = torch.tensor([[14,1,14,2,13,4,12,2,11,5]]).float()\n",
    "manualinput = torch.tensor([[5,1,10,1,13,4,9,3,3,4]]).float()\n",
    "model.eval()\n",
    "with torch.no_grad():\n",
    "    output = model(manualinput)\n",
    "print(output)\n",
    "with torch.no_grad():\n",
    "    output = model(greathand)\n",
    "print(output)"
   ]
  },
  {
   "cell_type": "code",
   "execution_count": null,
   "id": "8b2c7d60",
   "metadata": {},
   "outputs": [],
   "source": []
  }
 ],
 "metadata": {
  "kernelspec": {
   "display_name": "Python 3 (ipykernel)",
   "language": "python",
   "name": "python3"
  },
  "language_info": {
   "codemirror_mode": {
    "name": "ipython",
    "version": 3
   },
   "file_extension": ".py",
   "mimetype": "text/x-python",
   "name": "python",
   "nbconvert_exporter": "python",
   "pygments_lexer": "ipython3",
   "version": "3.11.5"
  }
 },
 "nbformat": 4,
 "nbformat_minor": 5
}
