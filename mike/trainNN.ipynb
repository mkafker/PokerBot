{
 "cells": [
  {
   "cell_type": "code",
   "execution_count": 7,
   "id": "aeb5460f",
   "metadata": {},
   "outputs": [],
   "source": [
    "import torch\n",
    "import torch.nn as nn\n",
    "import torch.optim as optim\n",
    "from torch.utils.data import Dataset, DataLoader\n",
    "import pandas as pd\n",
    "from sklearn.model_selection import train_test_split"
   ]
  },
  {
   "cell_type": "code",
   "execution_count": 19,
   "id": "39dff59f",
   "metadata": {},
   "outputs": [
    {
     "name": "stdout",
     "output_type": "stream",
     "text": [
      "{'features': tensor([ 8.,  4., 13.,  4., 10.,  1.,  5.,  4.,  6.,  2.], dtype=torch.float64), 'label': tensor(0.4510, dtype=torch.float64)}\n"
     ]
    }
   ],
   "source": [
    "# Define custom dataset class\n",
    "class CustomDataset(Dataset):\n",
    "    def __init__(self, csv_file):\n",
    "        self.data = pd.read_csv(csv_file)\n",
    "\n",
    "    def __len__(self):\n",
    "        return len(self.data)\n",
    "\n",
    "    def __getitem__(self, idx):\n",
    "        features = self.data.iloc[idx, :-1].values.astype(float)\n",
    "        label = self.data.iloc[idx, -1]\n",
    "        return {'features': torch.tensor(features), 'label': torch.tensor(label)}\n",
    "\n",
    "csv_file = 'build/HandMCout.csv'  # Replace 'data.csv' with the path to your CSV file\n",
    "dataset = CustomDataset(csv_file)\n",
    "\n",
    "print(dataset[0])\n",
    "# Split dataset into train and test sets\n",
    "#train_set, test_set = train_test_split(dataset, test_size=0.2, random_state=42)\n",
    "#print(test_set)\n"
   ]
  },
  {
   "cell_type": "code",
   "execution_count": 28,
   "id": "e45100b9",
   "metadata": {},
   "outputs": [
    {
     "name": "stdout",
     "output_type": "stream",
     "text": [
      "Epoch [1/50], Loss: 0.0463\n",
      "Epoch [2/50], Loss: 0.0207\n",
      "Epoch [3/50], Loss: 0.0243\n",
      "Epoch [4/50], Loss: 0.0190\n",
      "Epoch [5/50], Loss: 0.0365\n",
      "Epoch [6/50], Loss: 0.0339\n",
      "Epoch [7/50], Loss: 0.0339\n",
      "Epoch [8/50], Loss: 0.0126\n",
      "Epoch [9/50], Loss: 0.0300\n",
      "Epoch [10/50], Loss: 0.0130\n",
      "Epoch [11/50], Loss: 0.0211\n",
      "Epoch [12/50], Loss: 0.0242\n",
      "Epoch [13/50], Loss: 0.0119\n",
      "Epoch [14/50], Loss: 0.0261\n",
      "Epoch [15/50], Loss: 0.0507\n",
      "Epoch [16/50], Loss: 0.0570\n",
      "Epoch [17/50], Loss: 0.0142\n",
      "Epoch [18/50], Loss: 0.0555\n",
      "Epoch [19/50], Loss: 0.0272\n",
      "Epoch [20/50], Loss: 0.0181\n",
      "Epoch [21/50], Loss: 0.0349\n",
      "Epoch [22/50], Loss: 0.0236\n",
      "Epoch [23/50], Loss: 0.0138\n",
      "Epoch [24/50], Loss: 0.0267\n",
      "Epoch [25/50], Loss: 0.0291\n",
      "Epoch [26/50], Loss: 0.0152\n",
      "Epoch [27/50], Loss: 0.0212\n",
      "Epoch [28/50], Loss: 0.0147\n",
      "Epoch [29/50], Loss: 0.0328\n",
      "Epoch [30/50], Loss: 0.0249\n",
      "Epoch [31/50], Loss: 0.0212\n",
      "Epoch [32/50], Loss: 0.0161\n",
      "Epoch [33/50], Loss: 0.0205\n",
      "Epoch [34/50], Loss: 0.0055\n",
      "Epoch [35/50], Loss: 0.0266\n",
      "Epoch [36/50], Loss: 0.0450\n",
      "Epoch [37/50], Loss: 0.0211\n",
      "Epoch [38/50], Loss: 0.0319\n",
      "Epoch [39/50], Loss: 0.0304\n",
      "Epoch [40/50], Loss: 0.0107\n",
      "Epoch [41/50], Loss: 0.0115\n",
      "Epoch [42/50], Loss: 0.0257\n",
      "Epoch [43/50], Loss: 0.0270\n",
      "Epoch [44/50], Loss: 0.0229\n",
      "Epoch [45/50], Loss: 0.0195\n",
      "Epoch [46/50], Loss: 0.0404\n",
      "Epoch [47/50], Loss: 0.0438\n",
      "Epoch [48/50], Loss: 0.0206\n",
      "Epoch [49/50], Loss: 0.0128\n",
      "Epoch [50/50], Loss: 0.0113\n",
      "Test Loss: 0.0212\n"
     ]
    }
   ],
   "source": [
    "# Define the neural network\n",
    "class FunctionApproximator(nn.Module):\n",
    "    def __init__(self, input_dim, hidden_dim, output_dim):\n",
    "        super(FunctionApproximator, self).__init__()\n",
    "        self.fc1 = nn.Linear(input_dim, hidden_dim)\n",
    "        self.fc2 = nn.Linear(hidden_dim, output_dim)\n",
    "\n",
    "    def forward(self, x):\n",
    "        x = torch.relu(self.fc1(x))\n",
    "        x = self.fc2(x)\n",
    "        return x\n",
    "\n",
    "\n",
    "# Load CSV fil\n",
    "# Define model, loss function, and optimizer\n",
    "input_dim = len(train_set[0]['features'])\n",
    "output_dim = 1  # Assuming a single output\n",
    "hidden_dim = 50 # Adjust according to your problem\n",
    "model = FunctionApproximator(input_dim, hidden_dim, output_dim)\n",
    "criterion = nn.MSELoss()\n",
    "optimizer = optim.AdamW(model.parameters(), lr=0.001)\n",
    "\n",
    "# Train the model\n",
    "num_epochs = 50\n",
    "batch_size = 32\n",
    "train_loader = DataLoader(train_set, batch_size=batch_size, shuffle=True)\n",
    "\n",
    "for epoch in range(num_epochs):\n",
    "    for batch in train_loader:\n",
    "        features, labels = batch['features'], batch['label']\n",
    "        optimizer.zero_grad()\n",
    "        outputs = model(features.float())\n",
    "        loss = criterion(outputs.squeeze(), labels.float())\n",
    "        loss.backward()\n",
    "        optimizer.step()\n",
    "\n",
    "    print(f'Epoch [{epoch+1}/{num_epochs}], Loss: {loss.item():.4f}')\n",
    "\n",
    "# Evaluate the model\n",
    "test_loader = DataLoader(test_set, batch_size=batch_size, shuffle=False)\n",
    "test_loss = 0\n",
    "with torch.no_grad():\n",
    "    for batch in test_loader:\n",
    "        features, labels = batch['features'], batch['label']\n",
    "        outputs = model(features.float())\n",
    "        test_loss += criterion(outputs.squeeze(), labels.float()).item()\n",
    "\n",
    "test_loss /= len(test_loader)\n",
    "print(f'Test Loss: {test_loss:.4f}')"
   ]
  },
  {
   "cell_type": "code",
   "execution_count": 27,
   "id": "daed4333",
   "metadata": {},
   "outputs": [
    {
     "name": "stdout",
     "output_type": "stream",
     "text": [
      "tensor([[0.2106]])\n",
      "tensor([[1.0542]])\n"
     ]
    }
   ],
   "source": [
    "manualinput = torch.tensor([[5,2,2,1,12,3,7,3,11,4]]).float()\n",
    "greathand = torch.tensor([[14,1,14,2,13,4,12,2,11,5]]).float()\n",
    "\n",
    "model.eval()\n",
    "with torch.no_grad():\n",
    "    output = model(manualinput)\n",
    "print(output)\n",
    "with torch.no_grad():\n",
    "    output = model(greathand)\n",
    "print(output)"
   ]
  },
  {
   "cell_type": "code",
   "execution_count": null,
   "id": "5df5d142",
   "metadata": {},
   "outputs": [],
   "source": []
  }
 ],
 "metadata": {
  "kernelspec": {
   "display_name": "Python 3 (ipykernel)",
   "language": "python",
   "name": "python3"
  },
  "language_info": {
   "codemirror_mode": {
    "name": "ipython",
    "version": 3
   },
   "file_extension": ".py",
   "mimetype": "text/x-python",
   "name": "python",
   "nbconvert_exporter": "python",
   "pygments_lexer": "ipython3",
   "version": "3.11.5"
  }
 },
 "nbformat": 4,
 "nbformat_minor": 5
}
