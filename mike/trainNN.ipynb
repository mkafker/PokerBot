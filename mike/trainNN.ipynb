{
 "cells": [
  {
   "cell_type": "code",
   "execution_count": 1,
   "id": "aeb5460f",
   "metadata": {
    "tags": []
   },
   "outputs": [],
   "source": [
    "import torch\n",
    "import torch.nn as nn\n",
    "import torch.optim as optim\n",
    "from torch.utils.data import Dataset, DataLoader\n",
    "import pandas as pd\n",
    "from sklearn.model_selection import train_test_split"
   ]
  },
  {
   "cell_type": "code",
   "execution_count": 10,
   "id": "39dff59f",
   "metadata": {
    "tags": []
   },
   "outputs": [
    {
     "name": "stdout",
     "output_type": "stream",
     "text": [
      "{'features': tensor([5., 4., 2., 4., 3., 3., 4., 4., 4., 2.], dtype=torch.float64), 'label': tensor(0.0060, dtype=torch.float64)}\n",
      "[{'features': tensor([7., 2., 5., 2., 3., 1., 8., 3., 9., 1.], dtype=torch.float64), 'label': tensor(0.1050, dtype=torch.float64)}, {'features': tensor([ 3.,  4., 12.,  1., 14.,  1., 12.,  3., 14.,  4.], dtype=torch.float64), 'label': tensor(0.8560, dtype=torch.float64)}, {'features': tensor([ 6.,  4., 14.,  1.,  5.,  3.,  7.,  1., 10.,  3.], dtype=torch.float64), 'label': tensor(0.5430, dtype=torch.float64)}, {'features': tensor([10.,  1.,  4.,  2.,  3.,  2.,  8.,  2., 11.,  3.], dtype=torch.float64), 'label': tensor(0.2270, dtype=torch.float64)}, {'features': tensor([ 2.,  3.,  6.,  1., 12.,  1., 10.,  4.,  3.,  4.], dtype=torch.float64), 'label': tensor(0.0370, dtype=torch.float64)}]\n"
     ]
    }
   ],
   "source": [
    "# Define custom dataset class\n",
    "class CustomDataset(Dataset):\n",
    "    def __init__(self, csv_file):\n",
    "        self.data = pd.read_csv(csv_file)\n",
    "\n",
    "    def __len__(self):\n",
    "        return len(self.data)\n",
    "\n",
    "    def __getitem__(self, idx):\n",
    "        features = self.data.iloc[idx, :-1].values.astype(float)\n",
    "        label = self.data.iloc[idx, -1].astype(float)\n",
    "        return {'features': torch.tensor(features), 'label': torch.tensor(label)}\n",
    "\n",
    "csv_file = 'HandMCout.csv'  # Replace 'data.csv' with the path to your CSV file\n",
    "dataset = CustomDataset(csv_file)\n",
    "\n",
    "print(dataset[0])\n",
    "\n",
    "# Split dataset into train and test sets\n",
    "train_set, test_set = train_test_split(dataset, test_size=0.2, shuffle=True)\n",
    "print(train_set[0:5])\n",
    "\n"
   ]
  },
  {
   "cell_type": "code",
   "execution_count": null,
   "id": "e45100b9",
   "metadata": {
    "tags": []
   },
   "outputs": [
    {
     "name": "stdout",
     "output_type": "stream",
     "text": [
      "Epoch [1/50], Loss: 0.0582\n",
      "Epoch [2/50], Loss: 0.0587\n",
      "Epoch [3/50], Loss: 0.0561\n",
      "Epoch [4/50], Loss: 0.0671\n",
      "Epoch [5/50], Loss: 0.0539\n",
      "Epoch [6/50], Loss: 0.0583\n",
      "Epoch [7/50], Loss: 0.0669\n",
      "Epoch [8/50], Loss: 0.0434\n",
      "Epoch [9/50], Loss: 0.0535\n",
      "Epoch [10/50], Loss: 0.0419\n",
      "Epoch [11/50], Loss: 0.0470\n",
      "Epoch [12/50], Loss: 0.0430\n",
      "Epoch [13/50], Loss: 0.0320\n",
      "Epoch [14/50], Loss: 0.0349\n",
      "Epoch [15/50], Loss: 0.0339\n",
      "Epoch [16/50], Loss: 0.0265\n",
      "Epoch [17/50], Loss: 0.0275\n",
      "Epoch [18/50], Loss: 0.0317\n",
      "Epoch [19/50], Loss: 0.0304\n",
      "Epoch [20/50], Loss: 0.0268\n",
      "Epoch [21/50], Loss: 0.0346\n",
      "Epoch [22/50], Loss: 0.0258\n",
      "Epoch [23/50], Loss: 0.0241\n",
      "Epoch [24/50], Loss: 0.0279\n",
      "Epoch [25/50], Loss: 0.0259\n",
      "Epoch [26/50], Loss: 0.0203\n",
      "Epoch [27/50], Loss: 0.0217\n",
      "Epoch [28/50], Loss: 0.0244\n",
      "Epoch [29/50], Loss: 0.0274\n",
      "Epoch [30/50], Loss: 0.0194\n",
      "Epoch [31/50], Loss: 0.0245\n",
      "Epoch [32/50], Loss: 0.0228\n",
      "Epoch [33/50], Loss: 0.0193\n",
      "Epoch [34/50], Loss: 0.0268\n",
      "Epoch [35/50], Loss: 0.0177\n",
      "Epoch [36/50], Loss: 0.0216\n",
      "Epoch [37/50], Loss: 0.0284\n",
      "Epoch [38/50], Loss: 0.0227\n",
      "Epoch [39/50], Loss: 0.0178\n"
     ]
    }
   ],
   "source": [
    "# Define the neural network\n",
    "class FunctionApproximator(nn.Module):\n",
    "    def __init__(self, input_dim, hidden_dim, output_dim):\n",
    "        super(FunctionApproximator, self).__init__()\n",
    "        self.fc1 = nn.Linear(input_dim, hidden_dim)\n",
    "        self.fc2 = nn.Linear(hidden_dim, output_dim)\n",
    "\n",
    "    def forward(self, x):\n",
    "        x = torch.relu(self.fc1(x))\n",
    "        x = self.fc2(x)\n",
    "        return x\n",
    "\n",
    "\n",
    "# Load CSV fil\n",
    "# Define model, loss function, and optimizer\n",
    "input_dim = len(train_set[0]['features'])\n",
    "output_dim = 1  # Assuming a single output\n",
    "hidden_dim = 32 # Adjust according to your problem\n",
    "model = FunctionApproximator(input_dim, hidden_dim, output_dim)\n",
    "criterion = nn.MSELoss()\n",
    "optimizer = optim.AdamW(model.parameters(), lr=0.001)\n",
    "\n",
    "# Train the model\n",
    "num_epochs = 50\n",
    "batch_size = 128\n",
    "train_loader = DataLoader(train_set, batch_size=batch_size, shuffle=True)\n",
    "\n",
    "for epoch in range(num_epochs):\n",
    "    for batch in train_loader:\n",
    "        features, labels = batch['features'], batch['label']\n",
    "        optimizer.zero_grad()\n",
    "        outputs = model(features.float())\n",
    "        loss = criterion(outputs.squeeze(), labels.float())\n",
    "        loss.backward()\n",
    "        optimizer.step()\n",
    "\n",
    "    print(f'Epoch [{epoch+1}/{num_epochs}], Loss: {loss.item():.4f}')\n",
    "\n",
    "# Evaluate the model\n",
    "test_loader = DataLoader(test_set, batch_size=batch_size, shuffle=False)\n",
    "test_loss = 0\n",
    "with torch.no_grad():\n",
    "    for batch in test_loader:\n",
    "        features, labels = batch['features'], batch['label']\n",
    "        outputs = model(features.float())\n",
    "        test_loss += criterion(outputs.squeeze(), labels.float()).item()\n",
    "\n",
    "test_loss /= len(test_loader)\n",
    "print(f'Test Loss: {test_loss:.4f}')"
   ]
  },
  {
   "cell_type": "code",
   "execution_count": 17,
   "id": "daed4333",
   "metadata": {
    "tags": []
   },
   "outputs": [
    {
     "name": "stdout",
     "output_type": "stream",
     "text": [
      "tensor([[0.0418]])\n",
      "tensor([[1.0145]])\n"
     ]
    }
   ],
   "source": [
    "manualinput = torch.tensor([[2,3,6,2,11,4,11,1,4,3]]).float()   # answer is 0.044\n",
    "greathand = torch.tensor([[14,1,14,2,13,4,12,2,11,5]]).float()\n",
    "\n",
    "model.eval()\n",
    "with torch.no_grad():\n",
    "    output = model(manualinput)\n",
    "print(output)\n",
    "with torch.no_grad():\n",
    "    output = model(greathand)\n",
    "print(output)"
   ]
  },
  {
   "cell_type": "code",
   "execution_count": null,
   "id": "5df5d142",
   "metadata": {},
   "outputs": [],
   "source": []
  }
 ],
 "metadata": {
  "kernelspec": {
   "display_name": "Python [conda env:root] *",
   "language": "python",
   "name": "conda-root-py"
  },
  "language_info": {
   "codemirror_mode": {
    "name": "ipython",
    "version": 3
   },
   "file_extension": ".py",
   "mimetype": "text/x-python",
   "name": "python",
   "nbconvert_exporter": "python",
   "pygments_lexer": "ipython3",
   "version": "3.10.12"
  }
 },
 "nbformat": 4,
 "nbformat_minor": 5
}
